{
  "nbformat": 4,
  "nbformat_minor": 0,
  "metadata": {
    "colab": {
      "provenance": []
    },
    "kernelspec": {
      "name": "python3",
      "display_name": "Python 3"
    },
    "language_info": {
      "name": "python"
    }
  },
  "cells": [
    {
      "cell_type": "code",
      "execution_count": 9,
      "metadata": {
        "colab": {
          "base_uri": "https://localhost:8080/"
        },
        "id": "Ypm1K-TB3ygy",
        "outputId": "0f3ed92d-677f-4614-c738-8617920ad2ca"
      },
      "outputs": [
        {
          "output_type": "stream",
          "name": "stdout",
          "text": [
            "Enter a value to find factorial: 4\n",
            "The factorial of 4 is 24\n"
          ]
        }
      ],
      "source": [
        "def fac(num):\n",
        "  if num==1 or num==0:\n",
        "    return 1\n",
        "  else:\n",
        "    return num*fac(num-1)\n",
        "a=int(input(\"Enter a value to find factorial: \"))\n",
        "b=fac(a)\n",
        "print(f\"The factorial of {a} is {b}\")"
      ]
    },
    {
      "cell_type": "code",
      "source": [],
      "metadata": {
        "id": "J5m7BCQm5FpY"
      },
      "execution_count": null,
      "outputs": []
    }
  ]
}