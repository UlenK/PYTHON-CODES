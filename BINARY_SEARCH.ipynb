{
  "nbformat": 4,
  "nbformat_minor": 0,
  "metadata": {
    "colab": {
      "provenance": []
    },
    "kernelspec": {
      "name": "python3",
      "display_name": "Python 3"
    },
    "language_info": {
      "name": "python"
    }
  },
  "cells": [
    {
      "cell_type": "markdown",
      "source": [
        "# **BINARY SEARCH**"
      ],
      "metadata": {
        "id": "l8IbTVFpc013"
      }
    },
    {
      "cell_type": "code",
      "source": [
        "def binary_search(a, item):\n",
        "  left = 0\n",
        "  right = len(a)-1\n",
        "  while left <= right:\n",
        "    mid = (left + right)//2\n",
        "    if int(a[mid]) == item:\n",
        "      return mid+1\n",
        "    elif int(a[mid]) > item:\n",
        "      right = mid -1\n",
        "    else:\n",
        "      left = mid+1\n",
        "  else:\n",
        "    return -1\n",
        "\n",
        "l=input(\"Provide the list in a string separated by spaces:\\n\")\n",
        "l = l.split()\n",
        "item = int(input(\"What do you want to search:\\n\"))\n",
        "a = binary_search(l,item)\n",
        "if a>0:\n",
        "  print(f'{item} is at {a} position')\n",
        "else:\n",
        "  print(f'{item} is not in the list')"
      ],
      "metadata": {
        "colab": {
          "base_uri": "https://localhost:8080/"
        },
        "id": "N5cXetaXc1Qf",
        "outputId": "b6df4017-df81-489d-fada-98e4244d8d13"
      },
      "execution_count": 7,
      "outputs": [
        {
          "output_type": "stream",
          "name": "stdout",
          "text": [
            "Provide the list in a string separated by spaces:\n",
            "3 4 44 56 57 66 67 777 789 999\n",
            "What do you want to search:\n",
            "999\n",
            "999 is at 10 position\n"
          ]
        }
      ]
    },
    {
      "cell_type": "code",
      "source": [],
      "metadata": {
        "id": "pNxvBxrPec3v"
      },
      "execution_count": null,
      "outputs": []
    }
  ]
}