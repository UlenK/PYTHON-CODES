{
  "nbformat": 4,
  "nbformat_minor": 0,
  "metadata": {
    "colab": {
      "provenance": []
    },
    "kernelspec": {
      "name": "python3",
      "display_name": "Python 3"
    },
    "language_info": {
      "name": "python"
    }
  },
  "cells": [
    {
      "cell_type": "markdown",
      "source": [
        "# **BINARY SEARCH**\n",
        "\n",
        "TYPE I"
      ],
      "metadata": {
        "id": "l8IbTVFpc013"
      }
    },
    {
      "cell_type": "code",
      "source": [
        "def binary_search(a, item):\n",
        "  left = 0\n",
        "  right = len(a)-1\n",
        "  while left <= right:\n",
        "    mid = (left + right)//2\n",
        "    if int(a[mid]) == item:\n",
        "      return mid+1\n",
        "    elif int(a[mid]) > item:\n",
        "      right = mid -1\n",
        "    else:\n",
        "      left = mid+1\n",
        "  else:\n",
        "    return -1\n",
        "\n",
        "\n",
        "l=input(\"Provide the list in a string separated by spaces:\\n\")\n",
        "l = l.split()\n",
        "item = int(input(\"What do you want to search:\\n\"))\n",
        "a = binary_search(l,item)\n",
        "if a>0:\n",
        "  print(f'{item} is at {a} position')\n",
        "else:\n",
        "  print(f'{item} is not in the list')"
      ],
      "metadata": {
        "colab": {
          "base_uri": "https://localhost:8080/"
        },
        "id": "N5cXetaXc1Qf",
        "outputId": "521ba19a-f3ca-4920-cf11-9587831c9c3c"
      },
      "execution_count": 9,
      "outputs": [
        {
          "output_type": "stream",
          "name": "stdout",
          "text": [
            "Provide the list in a string separated by spaces:\n",
            "4 45 55 67 78 88 89 99 999 9900\n",
            "What do you want to search:\n",
            "56\n",
            "56 is not in the list\n"
          ]
        }
      ]
    },
    {
      "cell_type": "markdown",
      "source": [
        "TYPE II"
      ],
      "metadata": {
        "id": "tginW5Ktltmr"
      }
    },
    {
      "cell_type": "code",
      "source": [
        "def bin_search(item, l, low, high):\n",
        "  if low <= high:\n",
        "    mid = (low+high)//2\n",
        "    if int(l[mid])==item:\n",
        "      return mid+1\n",
        "    elif int(l[mid]) < item:\n",
        "      return bin_search(item,l,mid+1,high)\n",
        "    else:\n",
        "      return bin_search(item,l,low, mid-1)\n",
        "  else:\n",
        "    return -1\n",
        "\n",
        "l=input(\"Provide the list in a string separated by spaces:\\n\")\n",
        "l = l.split()\n",
        "item = int(input(\"What do you want to search:\\n\"))\n",
        "a = bin_search(item,l, 0, len(l)-1)\n",
        "if a>0:\n",
        "  print(f'{item} is at {a} position')\n",
        "else:\n",
        "  print(f'{item} is not in the list')\n",
        "\n"
      ],
      "metadata": {
        "colab": {
          "base_uri": "https://localhost:8080/"
        },
        "id": "X3f-BnlHltxS",
        "outputId": "6a926f46-e8b1-4186-8868-ef99e95f22ef"
      },
      "execution_count": 18,
      "outputs": [
        {
          "output_type": "stream",
          "name": "stdout",
          "text": [
            "Provide the list in a string separated by spaces:\n",
            "4 45 55 67 78 88 89 99 999 9900\n",
            "What do you want to search:\n",
            "2\n",
            "2 is not in the list\n"
          ]
        }
      ]
    },
    {
      "cell_type": "code",
      "source": [],
      "metadata": {
        "id": "Gxfeb_7QzcQc"
      },
      "execution_count": null,
      "outputs": []
    }
  ]
}